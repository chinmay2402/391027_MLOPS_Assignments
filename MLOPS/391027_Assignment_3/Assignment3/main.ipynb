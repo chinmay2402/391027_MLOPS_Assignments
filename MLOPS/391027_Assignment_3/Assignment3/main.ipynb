{
 "cells": [
  {
   "cell_type": "code",
   "execution_count": 1,
   "metadata": {},
   "outputs": [],
   "source": [
    "import nest_asyncio\n",
    "from fastapi import FastAPI, Query\n",
    "from fastapi.responses import JSONResponse\n",
    "import pandas as pd\n",
    "import matplotlib.pyplot as plt\n",
    "\n",
    "# Apply nest_asyncio to allow running the FastAPI app inside the Jupyter notebook\n",
    "nest_asyncio.apply()\n",
    "\n",
    "# Initialize the FastAPI app\n",
    "app = FastAPI()\n",
    "\n",
    "# Implement the WineDataFilter class\n",
    "class WineDataFilter:\n",
    "    def __init__(self, file_path: str):\n",
    "        # Load the wine dataset\n",
    "        self.df = pd.read_csv(file_path)\n",
    "    \n",
    "    def filter_by_quality(self, min_quality: int, max_quality: int) -> pd.DataFrame:\n",
    "        # Filter the dataset based on the quality range\n",
    "        return self.df[(self.df['quality'] >= min_quality) & (self.df['quality'] <= max_quality)]\n",
    "\n",
    "# Instantiate the WineDataFilter\n",
    "wine_filter = WineDataFilter(file_path=\"winequality-red.csv\")\n",
    "\n",
    "# Set up the FastAPI endpoint\n",
    "@app.get(\"/filter_wines/\")\n",
    "def filter_wines(min_quality: int = Query(5), max_quality: int = Query(8), features: list[str] = Query(None)):\n",
    "    # Filter the wine data based on quality\n",
    "    filtered_df = wine_filter.filter_by_quality(min_quality, max_quality)\n",
    "    \n",
    "    # Generate and save visualizations\n",
    "    if features:\n",
    "        for feature in features:\n",
    "            plt.figure(figsize=(8, 6))\n",
    "            plt.hist(filtered_df[feature], bins=20, color='blue', edgecolor='black')\n",
    "            plt.title(f'Distribution of {feature}')\n",
    "            plt.xlabel(feature)\n",
    "            plt.ylabel('Frequency')\n",
    "            image_path = f'{feature}_distribution.png'\n",
    "            plt.savefig(image_path)\n",
    "            plt.close()\n",
    "    \n",
    "    # Return the filtered data and file paths of the saved visualizations\n",
    "    response = {\n",
    "        \"filtered_data\": filtered_df.to_dict(orient=\"records\"),\n",
    "        \"visualizations\": [f\"{feature}_distribution.png\" for feature in features] if features else []\n",
    "    }\n",
    "    \n",
    "    return JSONResponse(content=response)\n",
    "\n",
    "\n"
   ]
  },
  {
   "cell_type": "code",
   "execution_count": 2,
   "metadata": {},
   "outputs": [
    {
     "name": "stderr",
     "output_type": "stream",
     "text": [
      "INFO:     Started server process [9700]\n",
      "INFO:     Waiting for application startup.\n",
      "INFO:     Application startup complete.\n",
      "INFO:     Uvicorn running on http://127.0.0.1:8001 (Press CTRL+C to quit)\n"
     ]
    }
   ],
   "source": [
    "import uvicorn\n",
    "\n",
    "# Run the FastAPI app\n",
    "uvicorn.run(app, host=\"127.0.0.1\", port=8001)\n"
   ]
  }
 ],
 "metadata": {
  "kernelspec": {
   "display_name": "Python 3",
   "language": "python",
   "name": "python3"
  },
  "language_info": {
   "codemirror_mode": {
    "name": "ipython",
    "version": 3
   },
   "file_extension": ".py",
   "mimetype": "text/x-python",
   "name": "python",
   "nbconvert_exporter": "python",
   "pygments_lexer": "ipython3",
   "version": "3.12.3"
  }
 },
 "nbformat": 4,
 "nbformat_minor": 2
}
